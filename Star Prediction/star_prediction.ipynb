{
 "cells": [
  {
   "cell_type": "code",
   "execution_count": 9,
   "metadata": {},
   "outputs": [],
   "source": [
    "import pandas as pd\n",
    "import numpy as np\n",
    "from sklearn.feature_extraction.text import CountVectorizer\n",
    "from sklearn.feature_extraction.text import TfidfVectorizer\n",
    "from sklearn.linear_model import LinearRegression\n",
    "from sklearn.linear_model import LogisticRegression\n",
    "from sklearn.svm import LinearSVR\n",
    "from sklearn.svm import SVR\n",
    "from nltk.tag import pos_tag #詞性標註\n",
    "from sklearn.model_selection import train_test_split"
   ]
  },
  {
   "cell_type": "markdown",
   "metadata": {},
   "source": [
    "# Final Code #"
   ]
  },
  {
   "cell_type": "code",
   "execution_count": 43,
   "metadata": {},
   "outputs": [],
   "source": [
    "# RMSE #\n",
    "from math import sqrt\n",
    "def rmse(pred,target):\n",
    "    n=len(pred)\n",
    "    total=0\n",
    "    for i in range(n):\n",
    "        total+=abs(pred[i]-target[i])**2\n",
    "    return sqrt(total/n)"
   ]
  },
  {
   "cell_type": "code",
   "execution_count": 44,
   "metadata": {},
   "outputs": [
    {
     "name": "stdout",
     "output_type": "stream",
     "text": [
      "RMSE: 0.9295657059297496\n"
     ]
    }
   ],
   "source": [
    "# # # (HashingVectorizer) Linear SVR # # #\n",
    "from sklearn.feature_extraction.text import HashingVectorizer\n",
    "data=pd.read_csv(\"training_data.csv\")\n",
    "test=pd.read_csv(\"test_data.csv\")\n",
    "x=list(data.iloc[:][\"text\"]) #only select text column\n",
    "y=list(data.stars)\n",
    "\n",
    "text_train, text_test, y_train, y_test=train_test_split(x,y,random_state=0,test_size=0.2,stratify=y)\n",
    "hashing_vectorizer = HashingVectorizer(n_features=1000000,stop_words=\"english\")\n",
    "x_train = hashing_vectorizer.fit_transform(text_train) #transform text into vector type\n",
    "x_test = hashing_vectorizer.transform(text_test)\n",
    "ans = hashing_vectorizer.transform(test.text)\n",
    "\n",
    "regr = LinearSVR(random_state=0) #predict method\n",
    "regr.fit(x_train, y_train) #training data\n",
    "pred_test=regr.predict(x_test) #test data\n",
    "\n",
    "# test data #\n",
    "pred_svr=regr.predict(ans) #predict\n",
    "print(\"RMSE:\",rmse(y_test,pred_test))\n",
    "\n",
    "with open(\"predict_result.csv\",'w') as file:  #write file\n",
    "    for i in range(len(pred_svr)):\n",
    "        line=str(test.iloc[i][\"review_id\"])+','+str(pred_svr[i])+'\\n'\n",
    "        file.write(line)"
   ]
  },
  {
   "cell_type": "code",
   "execution_count": 45,
   "metadata": {},
   "outputs": [],
   "source": [
    "x_temp = hashing_vectorizer.transform(x) #for the final example\n",
    "pred_temp = regr.predict(x_temp) "
   ]
  },
  {
   "cell_type": "markdown",
   "metadata": {},
   "source": [
    "# Another Try #"
   ]
  },
  {
   "cell_type": "code",
   "execution_count": 13,
   "metadata": {},
   "outputs": [
    {
     "name": "stdout",
     "output_type": "stream",
     "text": [
      "CountVectorizer(classification): 0.49625\n",
      "CountVectorizer(RMSE): 1.065657074297356 \n",
      "\n",
      "TfidfVectorizer(classification): 0.50375\n",
      "TfidfVectorizer(RMSE): 1.1757976016304847\n"
     ]
    }
   ],
   "source": [
    "### using LogisticRegression to compare the prediction of CountVectorizer and TfidfVectorizer ###\n",
    "clf = LogisticRegression()\n",
    "\n",
    "vectorizer=CountVectorizer(stop_words=\"english\")\n",
    "vectorizer.fit(text_train)\n",
    "x_train=vectorizer.fit_transform(text_train)\n",
    "x_test=vectorizer.transform(text_test)\n",
    "\n",
    "clf.fit(x_train,y_train)\n",
    "pred=clf.predict(x_test)\n",
    "print(\"CountVectorizer(classification):\",clf.score(x_test,y_test))\n",
    "print(\"CountVectorizer(RMSE):\",rmse(pred,y_test),\"\\n\")\n",
    "\n",
    "tfid_stop_vec = TfidfVectorizer(analyzer='word', stop_words='english')\n",
    "x_train = tfid_stop_vec.fit_transform(text_train)\n",
    "x_test = tfid_stop_vec.transform(text_test)\n",
    "\n",
    "clf.fit(x_train,y_train)\n",
    "pred2=clf.predict(x_test)\n",
    "print(\"TfidfVectorizer(classification):\",clf.score(x_test,y_test))\n",
    "print(\"TfidfVectorizer(RMSE):\",rmse(pred2,y_test))"
   ]
  },
  {
   "cell_type": "code",
   "execution_count": 14,
   "metadata": {},
   "outputs": [
    {
     "name": "stdout",
     "output_type": "stream",
     "text": [
      "LinearRegression(RMSE): 1.388854224918573 \n",
      "\n",
      "LinearSVR(RMSE): 0.9136411125346426\n"
     ]
    }
   ],
   "source": [
    "### compare with LinearRegression and LinearSVR ###\n",
    "text_train, text_test, y_train, y_test=train_test_split(x,y,random_state=42,test_size=0.2,stratify=y)\n",
    "\n",
    "tfid_stop_vec = TfidfVectorizer(analyzer='word', stop_words='english')\n",
    "x_train = tfid_stop_vec.fit_transform(text_train)\n",
    "x_test = tfid_stop_vec.transform(text_test)\n",
    "ans = tfid_stop_vec.transform(test.text)\n",
    "\n",
    "clf = LinearRegression()\n",
    "clf.fit(x_train,y_train)\n",
    "pred_test=clf.predict(x_test)\n",
    "print(\"LinearRegression(RMSE):\",rmse(pred_test,y_test),\"\\n\")\n",
    "\n",
    "regr = LinearSVR(random_state=0) #predict method\n",
    "regr.fit(x_train, y_train) #training data\n",
    "pred_test=regr.predict(x_test) #test data\n",
    "print(\"LinearSVR(RMSE):\",rmse(pred_test,y_test))"
   ]
  },
  {
   "cell_type": "markdown",
   "metadata": {},
   "source": [
    "## classification by part of speech ##"
   ]
  },
  {
   "cell_type": "code",
   "execution_count": 28,
   "metadata": {},
   "outputs": [
    {
     "name": "stdout",
     "output_type": "stream",
     "text": [
      "finish.\n",
      "finish.\n"
     ]
    }
   ],
   "source": [
    "import re\n",
    "import nltk\n",
    "from nltk.tag import pos_tag\n",
    "from nltk.corpus import brown\n",
    "\n",
    "def tag(string): #mark the part of speech\n",
    "        return nltk.pos_tag(string)\n",
    "    \n",
    "def text_convert(read,write,if_stars):\n",
    "    #for five items then next to the another part of speech\n",
    "    data=pd.read_csv(read)\n",
    "    pos_list=[\"JJ\",\"JJR\",\"JJS\",0,0,\\\n",
    "                \"NN\",\"NNP\",\"NNS\",0,0,\\\n",
    "                \"NNPS\",\"RB\",\"RBR\", \"RBS\",0,\\\n",
    "                \"VB\",\"VBG\",\"VBN\",\"VBP\",\"VBZ\"] \n",
    "    pos_=[\"ADJ\",\"NOUN\",\"ADV\",\"VERB\"]\n",
    "    total={\"ADJ\":[],\"NOUN\":[],\"ADV\":[],\"VERB\":[]}\n",
    "\n",
    "    for i in range(len(data)):\n",
    "        pat = '[a-zA-Z]+' #only alphabet can be read(there are seveal letters from Greek alphabet)\n",
    "        text=data.iloc[i][\"text\"]\n",
    "\n",
    "        text=text.replace('\"',' ') #excluding the sign of \"\n",
    "        bag_of_words=re.findall(pat, text)  ###以list形式返回所有匹配pat([a-zA-Z]+)模式的項\n",
    "        while '' in bag_of_words: #neglect blanks in the list ('' can not use pos_tag function)\n",
    "            del bag_of_words[bag_of_words.index('')]\n",
    "\n",
    "        pos=tag(bag_of_words) #mark the part of speech with bag_of_words (type:list)\n",
    "\n",
    "        words=pd.DataFrame({\"word\":bag_of_words})\n",
    "\n",
    "        pos1=pd.DataFrame(pos)[1] #part of speech(type:DataFrame)\n",
    "        # rename the column #\n",
    "        df=pd.concat([words,pos1],axis=1)\n",
    "        df[\"pos\"]=df[1]\n",
    "        del df[1]\n",
    "        pos_tag,counts=list(pd.value_counts(df[\"pos\"]).keys()),list(pd.value_counts(df[\"pos\"]))\n",
    "\n",
    "        for num in range(len(total)): #counts the numbers of the certain part of speech\n",
    "            count=0\n",
    "            for item in range(len(pos_tag)):\n",
    "                if pos_tag[item] in pos_list[5*num:5*num+5]: #classify and count the part of speech \n",
    "                    count+=counts[pos_tag.index(pos_tag[item])] #sum up the similar pos_tag result\n",
    "            total[pos_[num]].append(count)\n",
    "    total=pd.DataFrame(total)\n",
    "    total[\"review_id\"]=data[\"review_id\"]\n",
    "    if if_stars:\n",
    "        total[\"stars\"]=data[\"stars\"]\n",
    "    total.to_csv(write,index=False, encoding='utf8')\n",
    "    print(\"finish.\")\n",
    "\n",
    "text_convert(\"test_data.csv\",\"test(0607).csv\",False)\n",
    "text_convert(\"training_data.csv\",\"train(0607).csv\",True)"
   ]
  },
  {
   "cell_type": "code",
   "execution_count": 47,
   "metadata": {},
   "outputs": [
    {
     "name": "stdout",
     "output_type": "stream",
     "text": [
      "LinearSVR(RMSE): 0.724238250743993\n"
     ]
    }
   ],
   "source": [
    "pos_data=pd.read_csv(\"train(0607).csv\")\n",
    "pos_data_test=pd.read_csv(\"test(0607).csv\")\n",
    "\n",
    "merge=[\"review_id\",\"stars\"]\n",
    "merge_=[\"ADJ\",\"NOUN\",\"VERB\",\"ADV\"]\n",
    "## merge both of them ##\n",
    "df=pd.concat([data[merge][:],pos_data[merge_][:]],axis=1)\n",
    "# add prediction values to strengthen the star level trendency #\n",
    "temp_df=pd.DataFrame({\"pred\":pred_temp})\n",
    "df=pd.concat([df,temp_df],axis=1)\n",
    "x2=df[[\"ADJ\",\"NOUN\",\"VERB\",\"ADV\",\"pred\"]] #features\n",
    "y2=pos_data[\"stars\"]\n",
    "x_train2, x_test2, y_train2, y_test2=train_test_split(x2,y2,random_state=42,test_size=0.2,stratify=y2)\n",
    "regr = LinearSVR(random_state=0)\n",
    "regr.fit(x_train2, y_train2)\n",
    "pred_test2 = regr.predict(x_test2)\n",
    "final_ans = regr.predict(ans2)\n",
    "\n",
    "print(\"LinearSVR(RMSE):\",rmse(list(y_test2),pred_test2))"
   ]
  },
  {
   "cell_type": "code",
   "execution_count": 48,
   "metadata": {},
   "outputs": [
    {
     "name": "stdout",
     "output_type": "stream",
     "text": [
      "LinearRegression(RMSE): 0.7007463454222245\n"
     ]
    }
   ],
   "source": [
    "clf = LinearRegression()\n",
    "clf.fit(x_train2,y_train2)\n",
    "pred_test2=clf.predict(x_test2)\n",
    "print(\"LinearRegression(RMSE):\",rmse(pred_test2,list(y_test2)))"
   ]
  }
 ],
 "metadata": {
  "kernelspec": {
   "display_name": "Python 3",
   "language": "python",
   "name": "python3"
  },
  "language_info": {
   "codemirror_mode": {
    "name": "ipython",
    "version": 3
   },
   "file_extension": ".py",
   "mimetype": "text/x-python",
   "name": "python",
   "nbconvert_exporter": "python",
   "pygments_lexer": "ipython3",
   "version": "3.6.4"
  }
 },
 "nbformat": 4,
 "nbformat_minor": 2
}
